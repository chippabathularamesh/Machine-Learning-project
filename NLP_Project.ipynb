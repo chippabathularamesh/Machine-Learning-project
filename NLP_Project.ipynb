{
 "cells": [
  {
   "cell_type": "code",
   "execution_count": null,
   "id": "dc1cc82c",
   "metadata": {},
   "outputs": [],
   "source": [
    "import zipfile\n",
    "import pandas as pd\n",
    "import os\n",
    "\n",
    "zip_file_path = r\"C:\\Users\\rames\\Downloads\\txt_reviews.zip\"\n",
    "output_dir_path = r\"C:\\Users\\rames\\Downloads\\txt_reviews_extract\"\n",
    "\n",
    "def unzip(zip_file_path, output_dir_path):\n",
    "    \"\"\"\n",
    "    Unzips the specified zip file into the specified directory.\n",
    "    \n",
    "    Parameters:\n",
    "    zip_file_path (str): The path to the zip file.\n",
    "    output_dir_path (str): The directory where the contents will be extracted.\n",
    "    \"\"\"\n",
    "    print(f\"Unzipping {zip_file_path} to {output_dir_path}...\")\n",
    "    with zipfile.ZipFile(zip_file_path, \"r\") as zip_ref:\n",
    "        zip_ref.extractall(output_dir_path)\n",
    "    print(\"Data uncompressed successfully...\")\n",
    "\n",
    "def read_image_files(output_dir_path):\n",
    "    \"\"\"\n",
    "    Reads all image files from the specified directory using os.walk and returns\n",
    "    a list of dictionaries. Each dictionary contains the file name and its path.\n",
    "    \n",
    "    Parameters:\n",
    "    output_dir_path (str): The directory to search for image files.\n",
    "    \n",
    "    Returns:\n",
    "    list: A list of dictionaries with file name and path.\n",
    "    \"\"\"\n",
    "    files_data = []\n",
    "    print(f\"Searching for image files in {output_dir_path}...\")\n",
    "    for root, dirs, files in os.walk(output_dir_path):\n",
    "        print(f\"Reading image files from {root}... Detected {len(files)} files in {root} directory.\")\n",
    "        for file_name in files:\n",
    "            if file_name.lower().endswith((\".txt\")):\n",
    "                file_path = os.path.join(root, file_name)\n",
    "                print(f\"Processing file: {file_path}\")\n",
    "                files_data.append({\"file_name\": file_name, \"file_path\": file_path})\n",
    "    if not files_data:\n",
    "        print(\"No image files found.\")\n",
    "    return files_data\n",
    "\n",
    "def load_into_df(files_data):\n",
    "    \"\"\"\n",
    "    Loads the list of dictionaries into a pandas DataFrame.\n",
    "    \n",
    "    Parameters:\n",
    "    files_data (list): The list of dictionaries to load into the DataFrame.\n",
    "    \n",
    "    Returns:\n",
    "    DataFrame: The resulting pandas DataFrame.\n",
    "    \"\"\"\n",
    "    if files_data:\n",
    "        df = pd.DataFrame(files_data)\n",
    "        print(\"DataFrame created successfully.\")\n",
    "    else:\n",
    "        df = pd.DataFrame()\n",
    "        print(\"No image files found, empty DataFrame created.\")\n",
    "    return df\n",
    "\n",
    "unzip(zip_file_path, output_dir_path)\n",
    "files_data = read_image_files(output_dir_path)\n",
    "print(f\"Total image files processed: {len(files_data)}\")\n",
    "df = load_into_df(files_data)\n",
    "print(df)"
   ]
  },
  {
   "cell_type": "code",
   "execution_count": 1,
   "id": "3fd71cc3",
   "metadata": {},
   "outputs": [],
   "source": [
    "import zipfile\n",
    "import re\n",
    "import os\n",
    "import pandas as pd\n",
    "import numpy as np\n",
    "import seaborn as sns\n",
    "import nltk\n",
    "from nltk.corpus import stopwords\n",
    "from nltk.stem import WordNetLemmatizer"
   ]
  },
  {
   "cell_type": "code",
   "execution_count": 2,
   "id": "588a95fe",
   "metadata": {},
   "outputs": [],
   "source": [
    "files = os.listdir(r\"C:\\Users\\rames\\Downloads\\txt_reviews_extract\\txt_reviews\")"
   ]
  },
  {
   "cell_type": "code",
   "execution_count": 8,
   "id": "f34f7a26",
   "metadata": {},
   "outputs": [],
   "source": [
    "ProductId = []\n",
    "UserId = []\n",
    "ProfileName = []\n",
    "HelpfullnessNumerator = []\n",
    "HelpfulnessDenominator = []\n",
    "Score = []\n",
    "Time = []\n",
    "ReviewSummary = []\n",
    "ReviewText = []\n",
    "for file,num in zip(files,range(0,len(files))):\n",
    "    with open(fr\"C:\\Users\\rames\\Downloads\\txt_reviews_extract\\txt_reviews\\{file}\",encoding= \"utf-8\") as txt:\n",
    "        txt_read = txt.read()\n",
    "\n",
    "        try:\n",
    "            Product_id = re.findall(r\"ProductId:\\s(.*)\",txt_read)\n",
    "            ProductId.append(Product_id[0])\n",
    "            \n",
    "            User_id = re.findall(r'UserId:\\s(.*)',txt_read)\n",
    "            UserId.append(User_id[0])\n",
    "            \n",
    "            Profile_name = re.findall(r\"ProfileName:\\s(.*)\",txt_read)\n",
    "            ProfileName.append(Profile_name[0])\n",
    "            \n",
    "            Helpfullness_numerator = re.findall(r\"HelpfulnessNumerator:\\s(.*)\",txt_read)\n",
    "            HelpfullnessNumerator.append(Helpfullness_numerator[0])\n",
    "            \n",
    "            Helpfullness_denomerator = re.findall(r\"HelpfulnessDenominator:\\s(.*)\",txt_read)\n",
    "            HelpfulnessDenominator.append(Helpfullness_denomerator[0])\n",
    "            \n",
    "            score = re.findall(r\"Score:\\s(.*)\",txt_read)\n",
    "            Score.append(score[0])\n",
    "            \n",
    "            time = re.findall(r\"Time:\\s(.*)\",txt_read)\n",
    "            Time.append(time[0])\n",
    "            \n",
    "            Review_Summary = re.findall(r'ReviewSummary:\\s(.*)',txt_read)\n",
    "            ReviewSummary.append(Review_Summary[0])\n",
    "            \n",
    "            Review_text = re.findall(r\"ReviewText:\\s(.*)\",txt_read)\n",
    "            ReviewText.append(Review_text[0])\n",
    "        except:\n",
    "            print(f'skipping the {file}')"
   ]
  },
  {
   "cell_type": "markdown",
   "id": "2d085b3b",
   "metadata": {},
   "source": [
    "### create a DataFrame"
   ]
  },
  {
   "cell_type": "code",
   "execution_count": 9,
   "id": "e0cee5a8",
   "metadata": {},
   "outputs": [],
   "source": [
    "df = pd.DataFrame({\"ProductId\":ProductId,\n",
    "                   \"UserId\":UserId,\n",
    "                   \"ProfileName\":ProfileName,\n",
    "                   \"HelpfullnessNumerator\":HelpfullnessNumerator,\n",
    "                   \"HelpfulnessDenominator\":HelpfulnessDenominator,\n",
    "                   \"Score\":Score,\n",
    "                   \"Time\":Time,\n",
    "                   \"ReviewSummary\":ReviewSummary,\n",
    "                   \"ReviewText\":ReviewText})"
   ]
  },
  {
   "cell_type": "markdown",
   "id": "f1d5bcbe",
   "metadata": {},
   "source": [
    "### Raw Dataset"
   ]
  },
  {
   "cell_type": "code",
   "execution_count": 10,
   "id": "7ef83a90",
   "metadata": {},
   "outputs": [
    {
     "data": {
      "text/html": [
       "<div>\n",
       "<style scoped>\n",
       "    .dataframe tbody tr th:only-of-type {\n",
       "        vertical-align: middle;\n",
       "    }\n",
       "\n",
       "    .dataframe tbody tr th {\n",
       "        vertical-align: top;\n",
       "    }\n",
       "\n",
       "    .dataframe thead th {\n",
       "        text-align: right;\n",
       "    }\n",
       "</style>\n",
       "<table border=\"1\" class=\"dataframe\">\n",
       "  <thead>\n",
       "    <tr style=\"text-align: right;\">\n",
       "      <th></th>\n",
       "      <th>ProductId</th>\n",
       "      <th>UserId</th>\n",
       "      <th>ProfileName</th>\n",
       "      <th>HelpfullnessNumerator</th>\n",
       "      <th>HelpfulnessDenominator</th>\n",
       "      <th>Score</th>\n",
       "      <th>Time</th>\n",
       "      <th>ReviewSummary</th>\n",
       "      <th>ReviewText</th>\n",
       "    </tr>\n",
       "  </thead>\n",
       "  <tbody>\n",
       "    <tr>\n",
       "      <th>0</th>\n",
       "      <td>B001E4KFG0</td>\n",
       "      <td>A3SGXH7AUHU8GW</td>\n",
       "      <td>delmartian</td>\n",
       "      <td>1</td>\n",
       "      <td>1</td>\n",
       "      <td>5</td>\n",
       "      <td>1303862400</td>\n",
       "      <td>Good Quality Dog Food</td>\n",
       "      <td>I have bought several of the Vitality canned d...</td>\n",
       "    </tr>\n",
       "    <tr>\n",
       "      <th>1</th>\n",
       "      <td>B00171APVA</td>\n",
       "      <td>A21BT40VZCCYT4</td>\n",
       "      <td>Carol A. Reed</td>\n",
       "      <td>0</td>\n",
       "      <td>0</td>\n",
       "      <td>5</td>\n",
       "      <td>1351209600</td>\n",
       "      <td>Healthy Dog Food</td>\n",
       "      <td>This is a very healthy dog food. Good for thei...</td>\n",
       "    </tr>\n",
       "    <tr>\n",
       "      <th>2</th>\n",
       "      <td>B0019CW0HE</td>\n",
       "      <td>A2P6ACFZ8FTNVV</td>\n",
       "      <td>Melissa Benjamin</td>\n",
       "      <td>0</td>\n",
       "      <td>1</td>\n",
       "      <td>1</td>\n",
       "      <td>1331164800</td>\n",
       "      <td>Bad</td>\n",
       "      <td>I fed this to my Golden Retriever and he hated...</td>\n",
       "    </tr>\n",
       "    <tr>\n",
       "      <th>3</th>\n",
       "      <td>B006F2NYI2</td>\n",
       "      <td>A132DJVI37RB4X</td>\n",
       "      <td>Scottdrum</td>\n",
       "      <td>2</td>\n",
       "      <td>5</td>\n",
       "      <td>2</td>\n",
       "      <td>1332374400</td>\n",
       "      <td>Not hot, not habanero</td>\n",
       "      <td>I have to admit, I was a sucker for the large ...</td>\n",
       "    </tr>\n",
       "    <tr>\n",
       "      <th>4</th>\n",
       "      <td>B000P41A28</td>\n",
       "      <td>A82WIMR4RSVLI</td>\n",
       "      <td>Emrose mom</td>\n",
       "      <td>0</td>\n",
       "      <td>1</td>\n",
       "      <td>4</td>\n",
       "      <td>1337472000</td>\n",
       "      <td>The best weve tried so far</td>\n",
       "      <td>We have a 7 week old... He had gas and constip...</td>\n",
       "    </tr>\n",
       "    <tr>\n",
       "      <th>...</th>\n",
       "      <td>...</td>\n",
       "      <td>...</td>\n",
       "      <td>...</td>\n",
       "      <td>...</td>\n",
       "      <td>...</td>\n",
       "      <td>...</td>\n",
       "      <td>...</td>\n",
       "      <td>...</td>\n",
       "      <td>...</td>\n",
       "    </tr>\n",
       "    <tr>\n",
       "      <th>568449</th>\n",
       "      <td>B000LQORDE</td>\n",
       "      <td>AL22WN8RBBOW7</td>\n",
       "      <td>LifeInTheCity \"trogg\"</td>\n",
       "      <td>2</td>\n",
       "      <td>5</td>\n",
       "      <td>5</td>\n",
       "      <td>1256428800</td>\n",
       "      <td>Good Stuff</td>\n",
       "      <td>I love these noodle.  A little to spicy for th...</td>\n",
       "    </tr>\n",
       "    <tr>\n",
       "      <th>568450</th>\n",
       "      <td>B000LQORDE</td>\n",
       "      <td>A2P7HIRYYWVOBD</td>\n",
       "      <td>Mason</td>\n",
       "      <td>2</td>\n",
       "      <td>5</td>\n",
       "      <td>5</td>\n",
       "      <td>1254096000</td>\n",
       "      <td>yummy!</td>\n",
       "      <td>I just love it and will buy another box when I...</td>\n",
       "    </tr>\n",
       "    <tr>\n",
       "      <th>568451</th>\n",
       "      <td>B000LQORDE</td>\n",
       "      <td>A1K0ZH5MQFBA77</td>\n",
       "      <td>jennilight</td>\n",
       "      <td>2</td>\n",
       "      <td>5</td>\n",
       "      <td>4</td>\n",
       "      <td>1250985600</td>\n",
       "      <td>Tastes like More!</td>\n",
       "      <td>My late father in law used to have a rating sy...</td>\n",
       "    </tr>\n",
       "    <tr>\n",
       "      <th>568452</th>\n",
       "      <td>B000LQORDE</td>\n",
       "      <td>A29FRN2O7LWINL</td>\n",
       "      <td>T. Tsai</td>\n",
       "      <td>2</td>\n",
       "      <td>5</td>\n",
       "      <td>5</td>\n",
       "      <td>1237766400</td>\n",
       "      <td>Great ramen</td>\n",
       "      <td>This is my favorite brand of Korean ramen. It ...</td>\n",
       "    </tr>\n",
       "    <tr>\n",
       "      <th>568453</th>\n",
       "      <td>B000LQORDE</td>\n",
       "      <td>A9Q950IPXJR1D</td>\n",
       "      <td>Lynda \"casual customer\"</td>\n",
       "      <td>2</td>\n",
       "      <td>5</td>\n",
       "      <td>4</td>\n",
       "      <td>1237161600</td>\n",
       "      <td>Spicy!!</td>\n",
       "      <td>I do like these noodles although, to say they ...</td>\n",
       "    </tr>\n",
       "  </tbody>\n",
       "</table>\n",
       "<p>568454 rows × 9 columns</p>\n",
       "</div>"
      ],
      "text/plain": [
       "         ProductId          UserId              ProfileName  \\\n",
       "0       B001E4KFG0  A3SGXH7AUHU8GW               delmartian   \n",
       "1       B00171APVA  A21BT40VZCCYT4            Carol A. Reed   \n",
       "2       B0019CW0HE  A2P6ACFZ8FTNVV         Melissa Benjamin   \n",
       "3       B006F2NYI2  A132DJVI37RB4X                Scottdrum   \n",
       "4       B000P41A28   A82WIMR4RSVLI               Emrose mom   \n",
       "...            ...             ...                      ...   \n",
       "568449  B000LQORDE   AL22WN8RBBOW7    LifeInTheCity \"trogg\"   \n",
       "568450  B000LQORDE  A2P7HIRYYWVOBD                    Mason   \n",
       "568451  B000LQORDE  A1K0ZH5MQFBA77               jennilight   \n",
       "568452  B000LQORDE  A29FRN2O7LWINL                  T. Tsai   \n",
       "568453  B000LQORDE   A9Q950IPXJR1D  Lynda \"casual customer\"   \n",
       "\n",
       "       HelpfullnessNumerator HelpfulnessDenominator Score        Time  \\\n",
       "0                          1                      1     5  1303862400   \n",
       "1                          0                      0     5  1351209600   \n",
       "2                          0                      1     1  1331164800   \n",
       "3                          2                      5     2  1332374400   \n",
       "4                          0                      1     4  1337472000   \n",
       "...                      ...                    ...   ...         ...   \n",
       "568449                     2                      5     5  1256428800   \n",
       "568450                     2                      5     5  1254096000   \n",
       "568451                     2                      5     4  1250985600   \n",
       "568452                     2                      5     5  1237766400   \n",
       "568453                     2                      5     4  1237161600   \n",
       "\n",
       "                     ReviewSummary  \\\n",
       "0            Good Quality Dog Food   \n",
       "1                 Healthy Dog Food   \n",
       "2                              Bad   \n",
       "3            Not hot, not habanero   \n",
       "4       The best weve tried so far   \n",
       "...                            ...   \n",
       "568449                  Good Stuff   \n",
       "568450                      yummy!   \n",
       "568451           Tastes like More!   \n",
       "568452                 Great ramen   \n",
       "568453                     Spicy!!   \n",
       "\n",
       "                                               ReviewText  \n",
       "0       I have bought several of the Vitality canned d...  \n",
       "1       This is a very healthy dog food. Good for thei...  \n",
       "2       I fed this to my Golden Retriever and he hated...  \n",
       "3       I have to admit, I was a sucker for the large ...  \n",
       "4       We have a 7 week old... He had gas and constip...  \n",
       "...                                                   ...  \n",
       "568449  I love these noodle.  A little to spicy for th...  \n",
       "568450  I just love it and will buy another box when I...  \n",
       "568451  My late father in law used to have a rating sy...  \n",
       "568452  This is my favorite brand of Korean ramen. It ...  \n",
       "568453  I do like these noodles although, to say they ...  \n",
       "\n",
       "[568454 rows x 9 columns]"
      ]
     },
     "execution_count": 10,
     "metadata": {},
     "output_type": "execute_result"
    }
   ],
   "source": [
    "df"
   ]
  },
  {
   "cell_type": "code",
   "execution_count": 11,
   "id": "47d2ff27",
   "metadata": {},
   "outputs": [],
   "source": [
    "def clean(doc):\n",
    "    \n",
    "    #remove the special characters and digits\n",
    "    regex = \"[^a-zA-Z0-9]\"\n",
    "    doc = re.sub(regex,\" \",doc)\n",
    "     \n",
    "    # It converts the lower case\n",
    "    doc = doc.lower()\n",
    "    \n",
    "    #Tokanaization\n",
    "    tokens = nltk.word_tokenize(doc)\n",
    "    \n",
    "    #stop words removel\n",
    "    stop_words = set(stopwords.words(\"english\"))\n",
    "    filter_words = [word for word in tokens if word not in stop_words]\n",
    "    \n",
    "    #lemmataization\n",
    "    lemmataizer  = WordNetLemmatizer()\n",
    "    lemmataizer_tokens = [lemmataizer.lemmatize(tokens) for tokens in filter_words]\n",
    "    \n",
    "    #join and return\n",
    "    return \" \".join(lemmataizer_tokens)"
   ]
  },
  {
   "cell_type": "code",
   "execution_count": 12,
   "id": "2726306c",
   "metadata": {},
   "outputs": [],
   "source": [
    "def tokenizer(doc):\n",
    "    return nltk.word_tokenize(doc)"
   ]
  },
  {
   "cell_type": "code",
   "execution_count": 13,
   "id": "1af3151c",
   "metadata": {},
   "outputs": [
    {
     "name": "stderr",
     "output_type": "stream",
     "text": [
      "[nltk_data] Downloading package punkt to\n",
      "[nltk_data]     C:\\Users\\rames\\AppData\\Roaming\\nltk_data...\n",
      "[nltk_data]   Unzipping tokenizers\\punkt.zip.\n",
      "[nltk_data] Downloading package stopwords to\n",
      "[nltk_data]     C:\\Users\\rames\\AppData\\Roaming\\nltk_data...\n",
      "[nltk_data]   Unzipping corpora\\stopwords.zip.\n",
      "[nltk_data] Downloading package omw-1.4 to\n",
      "[nltk_data]     C:\\Users\\rames\\AppData\\Roaming\\nltk_data...\n",
      "[nltk_data] Downloading package wordnet to\n",
      "[nltk_data]     C:\\Users\\rames\\AppData\\Roaming\\nltk_data...\n"
     ]
    },
    {
     "data": {
      "text/plain": [
       "True"
      ]
     },
     "execution_count": 13,
     "metadata": {},
     "output_type": "execute_result"
    }
   ],
   "source": [
    "nltk.download('punkt')\n",
    "nltk.download('stopwords')\n",
    "nltk.download('omw-1.4')\n",
    "nltk.download('wordnet')"
   ]
  },
  {
   "cell_type": "code",
   "execution_count": null,
   "id": "317e749e",
   "metadata": {},
   "outputs": [],
   "source": []
  },
  {
   "cell_type": "code",
   "execution_count": 14,
   "id": "bf40b328",
   "metadata": {},
   "outputs": [],
   "source": [
    "df['Review_text'] = df['ReviewText'].apply(lambda x:clean(x))"
   ]
  },
  {
   "cell_type": "markdown",
   "id": "75c15c96",
   "metadata": {},
   "source": [
    "### Data Set"
   ]
  },
  {
   "cell_type": "code",
   "execution_count": 15,
   "id": "b9c6f0f2",
   "metadata": {},
   "outputs": [
    {
     "data": {
      "text/html": [
       "<div>\n",
       "<style scoped>\n",
       "    .dataframe tbody tr th:only-of-type {\n",
       "        vertical-align: middle;\n",
       "    }\n",
       "\n",
       "    .dataframe tbody tr th {\n",
       "        vertical-align: top;\n",
       "    }\n",
       "\n",
       "    .dataframe thead th {\n",
       "        text-align: right;\n",
       "    }\n",
       "</style>\n",
       "<table border=\"1\" class=\"dataframe\">\n",
       "  <thead>\n",
       "    <tr style=\"text-align: right;\">\n",
       "      <th></th>\n",
       "      <th>ProductId</th>\n",
       "      <th>UserId</th>\n",
       "      <th>ProfileName</th>\n",
       "      <th>HelpfullnessNumerator</th>\n",
       "      <th>HelpfulnessDenominator</th>\n",
       "      <th>Score</th>\n",
       "      <th>Time</th>\n",
       "      <th>ReviewSummary</th>\n",
       "      <th>ReviewText</th>\n",
       "      <th>Review_text</th>\n",
       "    </tr>\n",
       "  </thead>\n",
       "  <tbody>\n",
       "    <tr>\n",
       "      <th>0</th>\n",
       "      <td>B001E4KFG0</td>\n",
       "      <td>A3SGXH7AUHU8GW</td>\n",
       "      <td>delmartian</td>\n",
       "      <td>1</td>\n",
       "      <td>1</td>\n",
       "      <td>5</td>\n",
       "      <td>1303862400</td>\n",
       "      <td>Good Quality Dog Food</td>\n",
       "      <td>I have bought several of the Vitality canned d...</td>\n",
       "      <td>bought several vitality canned dog food produc...</td>\n",
       "    </tr>\n",
       "    <tr>\n",
       "      <th>1</th>\n",
       "      <td>B00171APVA</td>\n",
       "      <td>A21BT40VZCCYT4</td>\n",
       "      <td>Carol A. Reed</td>\n",
       "      <td>0</td>\n",
       "      <td>0</td>\n",
       "      <td>5</td>\n",
       "      <td>1351209600</td>\n",
       "      <td>Healthy Dog Food</td>\n",
       "      <td>This is a very healthy dog food. Good for thei...</td>\n",
       "      <td>healthy dog food good digestion also good smal...</td>\n",
       "    </tr>\n",
       "    <tr>\n",
       "      <th>2</th>\n",
       "      <td>B0019CW0HE</td>\n",
       "      <td>A2P6ACFZ8FTNVV</td>\n",
       "      <td>Melissa Benjamin</td>\n",
       "      <td>0</td>\n",
       "      <td>1</td>\n",
       "      <td>1</td>\n",
       "      <td>1331164800</td>\n",
       "      <td>Bad</td>\n",
       "      <td>I fed this to my Golden Retriever and he hated...</td>\n",
       "      <td>fed golden retriever hated eat gave terrible d...</td>\n",
       "    </tr>\n",
       "    <tr>\n",
       "      <th>3</th>\n",
       "      <td>B006F2NYI2</td>\n",
       "      <td>A132DJVI37RB4X</td>\n",
       "      <td>Scottdrum</td>\n",
       "      <td>2</td>\n",
       "      <td>5</td>\n",
       "      <td>2</td>\n",
       "      <td>1332374400</td>\n",
       "      <td>Not hot, not habanero</td>\n",
       "      <td>I have to admit, I was a sucker for the large ...</td>\n",
       "      <td>admit sucker large quantity 12 oz shopping hot...</td>\n",
       "    </tr>\n",
       "    <tr>\n",
       "      <th>4</th>\n",
       "      <td>B000P41A28</td>\n",
       "      <td>A82WIMR4RSVLI</td>\n",
       "      <td>Emrose mom</td>\n",
       "      <td>0</td>\n",
       "      <td>1</td>\n",
       "      <td>4</td>\n",
       "      <td>1337472000</td>\n",
       "      <td>The best weve tried so far</td>\n",
       "      <td>We have a 7 week old... He had gas and constip...</td>\n",
       "      <td>7 week old gas constipation problem first 5 we...</td>\n",
       "    </tr>\n",
       "    <tr>\n",
       "      <th>...</th>\n",
       "      <td>...</td>\n",
       "      <td>...</td>\n",
       "      <td>...</td>\n",
       "      <td>...</td>\n",
       "      <td>...</td>\n",
       "      <td>...</td>\n",
       "      <td>...</td>\n",
       "      <td>...</td>\n",
       "      <td>...</td>\n",
       "      <td>...</td>\n",
       "    </tr>\n",
       "    <tr>\n",
       "      <th>568449</th>\n",
       "      <td>B000LQORDE</td>\n",
       "      <td>AL22WN8RBBOW7</td>\n",
       "      <td>LifeInTheCity \"trogg\"</td>\n",
       "      <td>2</td>\n",
       "      <td>5</td>\n",
       "      <td>5</td>\n",
       "      <td>1256428800</td>\n",
       "      <td>Good Stuff</td>\n",
       "      <td>I love these noodle.  A little to spicy for th...</td>\n",
       "      <td>love noodle little spicy wife perfct</td>\n",
       "    </tr>\n",
       "    <tr>\n",
       "      <th>568450</th>\n",
       "      <td>B000LQORDE</td>\n",
       "      <td>A2P7HIRYYWVOBD</td>\n",
       "      <td>Mason</td>\n",
       "      <td>2</td>\n",
       "      <td>5</td>\n",
       "      <td>5</td>\n",
       "      <td>1254096000</td>\n",
       "      <td>yummy!</td>\n",
       "      <td>I just love it and will buy another box when I...</td>\n",
       "      <td>love buy another box done last one</td>\n",
       "    </tr>\n",
       "    <tr>\n",
       "      <th>568451</th>\n",
       "      <td>B000LQORDE</td>\n",
       "      <td>A1K0ZH5MQFBA77</td>\n",
       "      <td>jennilight</td>\n",
       "      <td>2</td>\n",
       "      <td>5</td>\n",
       "      <td>4</td>\n",
       "      <td>1250985600</td>\n",
       "      <td>Tastes like More!</td>\n",
       "      <td>My late father in law used to have a rating sy...</td>\n",
       "      <td>late father law used rating system meal partic...</td>\n",
       "    </tr>\n",
       "    <tr>\n",
       "      <th>568452</th>\n",
       "      <td>B000LQORDE</td>\n",
       "      <td>A29FRN2O7LWINL</td>\n",
       "      <td>T. Tsai</td>\n",
       "      <td>2</td>\n",
       "      <td>5</td>\n",
       "      <td>5</td>\n",
       "      <td>1237766400</td>\n",
       "      <td>Great ramen</td>\n",
       "      <td>This is my favorite brand of Korean ramen. It ...</td>\n",
       "      <td>favorite brand korean ramen spicy used eating ...</td>\n",
       "    </tr>\n",
       "    <tr>\n",
       "      <th>568453</th>\n",
       "      <td>B000LQORDE</td>\n",
       "      <td>A9Q950IPXJR1D</td>\n",
       "      <td>Lynda \"casual customer\"</td>\n",
       "      <td>2</td>\n",
       "      <td>5</td>\n",
       "      <td>4</td>\n",
       "      <td>1237161600</td>\n",
       "      <td>Spicy!!</td>\n",
       "      <td>I do like these noodles although, to say they ...</td>\n",
       "      <td>like noodle although say spicy somewhat unders...</td>\n",
       "    </tr>\n",
       "  </tbody>\n",
       "</table>\n",
       "<p>568454 rows × 10 columns</p>\n",
       "</div>"
      ],
      "text/plain": [
       "         ProductId          UserId              ProfileName  \\\n",
       "0       B001E4KFG0  A3SGXH7AUHU8GW               delmartian   \n",
       "1       B00171APVA  A21BT40VZCCYT4            Carol A. Reed   \n",
       "2       B0019CW0HE  A2P6ACFZ8FTNVV         Melissa Benjamin   \n",
       "3       B006F2NYI2  A132DJVI37RB4X                Scottdrum   \n",
       "4       B000P41A28   A82WIMR4RSVLI               Emrose mom   \n",
       "...            ...             ...                      ...   \n",
       "568449  B000LQORDE   AL22WN8RBBOW7    LifeInTheCity \"trogg\"   \n",
       "568450  B000LQORDE  A2P7HIRYYWVOBD                    Mason   \n",
       "568451  B000LQORDE  A1K0ZH5MQFBA77               jennilight   \n",
       "568452  B000LQORDE  A29FRN2O7LWINL                  T. Tsai   \n",
       "568453  B000LQORDE   A9Q950IPXJR1D  Lynda \"casual customer\"   \n",
       "\n",
       "       HelpfullnessNumerator HelpfulnessDenominator Score        Time  \\\n",
       "0                          1                      1     5  1303862400   \n",
       "1                          0                      0     5  1351209600   \n",
       "2                          0                      1     1  1331164800   \n",
       "3                          2                      5     2  1332374400   \n",
       "4                          0                      1     4  1337472000   \n",
       "...                      ...                    ...   ...         ...   \n",
       "568449                     2                      5     5  1256428800   \n",
       "568450                     2                      5     5  1254096000   \n",
       "568451                     2                      5     4  1250985600   \n",
       "568452                     2                      5     5  1237766400   \n",
       "568453                     2                      5     4  1237161600   \n",
       "\n",
       "                     ReviewSummary  \\\n",
       "0            Good Quality Dog Food   \n",
       "1                 Healthy Dog Food   \n",
       "2                              Bad   \n",
       "3            Not hot, not habanero   \n",
       "4       The best weve tried so far   \n",
       "...                            ...   \n",
       "568449                  Good Stuff   \n",
       "568450                      yummy!   \n",
       "568451           Tastes like More!   \n",
       "568452                 Great ramen   \n",
       "568453                     Spicy!!   \n",
       "\n",
       "                                               ReviewText  \\\n",
       "0       I have bought several of the Vitality canned d...   \n",
       "1       This is a very healthy dog food. Good for thei...   \n",
       "2       I fed this to my Golden Retriever and he hated...   \n",
       "3       I have to admit, I was a sucker for the large ...   \n",
       "4       We have a 7 week old... He had gas and constip...   \n",
       "...                                                   ...   \n",
       "568449  I love these noodle.  A little to spicy for th...   \n",
       "568450  I just love it and will buy another box when I...   \n",
       "568451  My late father in law used to have a rating sy...   \n",
       "568452  This is my favorite brand of Korean ramen. It ...   \n",
       "568453  I do like these noodles although, to say they ...   \n",
       "\n",
       "                                              Review_text  \n",
       "0       bought several vitality canned dog food produc...  \n",
       "1       healthy dog food good digestion also good smal...  \n",
       "2       fed golden retriever hated eat gave terrible d...  \n",
       "3       admit sucker large quantity 12 oz shopping hot...  \n",
       "4       7 week old gas constipation problem first 5 we...  \n",
       "...                                                   ...  \n",
       "568449               love noodle little spicy wife perfct  \n",
       "568450                 love buy another box done last one  \n",
       "568451  late father law used rating system meal partic...  \n",
       "568452  favorite brand korean ramen spicy used eating ...  \n",
       "568453  like noodle although say spicy somewhat unders...  \n",
       "\n",
       "[568454 rows x 10 columns]"
      ]
     },
     "execution_count": 15,
     "metadata": {},
     "output_type": "execute_result"
    }
   ],
   "source": [
    "df"
   ]
  },
  {
   "cell_type": "markdown",
   "id": "544452b4",
   "metadata": {},
   "source": [
    "### Target Variable"
   ]
  },
  {
   "cell_type": "code",
   "execution_count": 16,
   "id": "2887449d",
   "metadata": {},
   "outputs": [
    {
     "data": {
      "text/plain": [
       "<Axes: xlabel='Score', ylabel='count'>"
      ]
     },
     "execution_count": 16,
     "metadata": {},
     "output_type": "execute_result"
    },
    {
     "data": {
      "image/png": "[encoded data removed]",
      "text/plain": [
       "<Figure size 640x480 with 1 Axes>"
      ]
     },
     "metadata": {},
     "output_type": "display_data"
    }
   ],
   "source": [
    "sns.countplot(data = df,x = \"Score\")"
   ]
  },
  {
   "cell_type": "code",
   "execution_count": 17,
   "id": "fee8a719",
   "metadata": {},
   "outputs": [
    {
     "data": {
      "text/plain": [
       "Index(['ProductId', 'UserId', 'ProfileName', 'HelpfullnessNumerator',\n",
       "       'HelpfulnessDenominator', 'Score', 'Time', 'ReviewSummary',\n",
       "       'ReviewText', 'Review_text'],\n",
       "      dtype='object')"
      ]
     },
     "execution_count": 17,
     "metadata": {},
     "output_type": "execute_result"
    }
   ],
   "source": [
    "df.columns"
   ]
  },
  {
   "cell_type": "markdown",
   "id": "24ed1f27",
   "metadata": {},
   "source": [
    "### Seggregate Input and Output"
   ]
  },
  {
   "cell_type": "code",
   "execution_count": 18,
   "id": "60b831d3",
   "metadata": {},
   "outputs": [],
   "source": [
    "X = df.drop(columns=\"Score\")"
   ]
  },
  {
   "cell_type": "code",
   "execution_count": 19,
   "id": "80b339da",
   "metadata": {},
   "outputs": [],
   "source": [
    "y = df[[\"Score\"]]"
   ]
  },
  {
   "cell_type": "markdown",
   "id": "8a023714",
   "metadata": {},
   "source": [
    "### split the data"
   ]
  },
  {
   "cell_type": "code",
   "execution_count": 20,
   "id": "bd131439",
   "metadata": {},
   "outputs": [],
   "source": [
    "from sklearn.model_selection import train_test_split"
   ]
  },
  {
   "cell_type": "code",
   "execution_count": 21,
   "id": "8b64cee8",
   "metadata": {},
   "outputs": [],
   "source": [
    "X_train,X_test,y_train,y_test = train_test_split(X,y,test_size=0.30,random_state=0)"
   ]
  },
  {
   "cell_type": "code",
   "execution_count": 22,
   "id": "061fd070",
   "metadata": {},
   "outputs": [
    {
     "name": "stdout",
     "output_type": "stream",
     "text": [
      "(397917, 9) (170537, 9)\n",
      "(397917, 1) (170537, 1)\n"
     ]
    }
   ],
   "source": [
    "print(X_train.shape,X_test.shape)\n",
    "print(y_train.shape,y_test.shape)"
   ]
  },
  {
   "cell_type": "markdown",
   "id": "df097566",
   "metadata": {},
   "source": [
    "### Data Preparation"
   ]
  },
  {
   "cell_type": "code",
   "execution_count": 23,
   "id": "8b2f0022",
   "metadata": {},
   "outputs": [],
   "source": [
    "from sklearn.feature_extraction.text import CountVectorizer"
   ]
  },
  {
   "cell_type": "code",
   "execution_count": 24,
   "id": "5f30a1c9",
   "metadata": {},
   "outputs": [],
   "source": [
    "vect = CountVectorizer(token_pattern=None,\n",
    "                           tokenizer=tokenizer,\n",
    "                           ngram_range=(1, 1), \n",
    "                           lowercase=False, \n",
    "                           preprocessor=clean, \n",
    "                           stop_words=None)"
   ]
  },
  {
   "cell_type": "code",
   "execution_count": 25,
   "id": "1749ab82",
   "metadata": {},
   "outputs": [],
   "source": [
    "X_train_transformed = vect.fit_transform(X_train['ReviewText'])"
   ]
  },
  {
   "cell_type": "code",
   "execution_count": 26,
   "id": "360d6b39",
   "metadata": {},
   "outputs": [],
   "source": [
    "X_test_transformed = vect.transform(X_test['ReviewText'])"
   ]
  },
  {
   "cell_type": "markdown",
   "id": "44d575e8",
   "metadata": {},
   "source": [
    "### Model Building"
   ]
  },
  {
   "cell_type": "code",
   "execution_count": 27,
   "id": "bf0029d9",
   "metadata": {},
   "outputs": [],
   "source": [
    "from sklearn.linear_model import LinearRegression"
   ]
  },
  {
   "cell_type": "code",
   "execution_count": 28,
   "id": "4e7e88b1",
   "metadata": {},
   "outputs": [],
   "source": [
    "reg = LinearRegression()"
   ]
  },
  {
   "cell_type": "code",
   "execution_count": 29,
   "id": "f641d09e",
   "metadata": {},
   "outputs": [
    {
     "data": {
      "text/html": [
       "<style>#sk-container-id-1 {color: black;}#sk-container-id-1 pre{padding: 0;}#sk-container-id-1 div.sk-toggleable {background-color: white;}#sk-container-id-1 label.sk-toggleable__label {cursor: pointer;display: block;width: 100%;margin-bottom: 0;padding: 0.3em;box-sizing: border-box;text-align: center;}#sk-container-id-1 label.sk-toggleable__label-arrow:before {content: \"▸\";float: left;margin-right: 0.25em;color: #696969;}#sk-container-id-1 label.sk-toggleable__label-arrow:hover:before {color: black;}#sk-container-id-1 div.sk-estimator:hover label.sk-toggleable__label-arrow:before {color: black;}#sk-container-id-1 div.sk-toggleable__content {max-height: 0;max-width: 0;overflow: hidden;text-align: left;background-color: #f0f8ff;}#sk-container-id-1 div.sk-toggleable__content pre {margin: 0.2em;color: black;border-radius: 0.25em;background-color: #f0f8ff;}#sk-container-id-1 input.sk-toggleable__control:checked~div.sk-toggleable__content {max-height: 200px;max-width: 100%;overflow: auto;}#sk-container-id-1 input.sk-toggleable__control:checked~label.sk-toggleable__label-arrow:before {content: \"▾\";}#sk-container-id-1 div.sk-estimator input.sk-toggleable__control:checked~label.sk-toggleable__label {background-color: #d4ebff;}#sk-container-id-1 div.sk-label input.sk-toggleable__control:checked~label.sk-toggleable__label {background-color: #d4ebff;}#sk-container-id-1 input.sk-hidden--visually {border: 0;clip: rect(1px 1px 1px 1px);clip: rect(1px, 1px, 1px, 1px);height: 1px;margin: -1px;overflow: hidden;padding: 0;position: absolute;width: 1px;}#sk-container-id-1 div.sk-estimator {font-family: monospace;background-color: #f0f8ff;border: 1px dotted black;border-radius: 0.25em;box-sizing: border-box;margin-bottom: 0.5em;}#sk-container-id-1 div.sk-estimator:hover {background-color: #d4ebff;}#sk-container-id-1 div.sk-parallel-item::after {content: \"\";width: 100%;border-bottom: 1px solid gray;flex-grow: 1;}#sk-container-id-1 div.sk-label:hover label.sk-toggleable__label {background-color: #d4ebff;}#sk-container-id-1 div.sk-serial::before {content: \"\";position: absolute;border-left: 1px solid gray;box-sizing: border-box;top: 0;bottom: 0;left: 50%;z-index: 0;}#sk-container-id-1 div.sk-serial {display: flex;flex-direction: column;align-items: center;background-color: white;padding-right: 0.2em;padding-left: 0.2em;position: relative;}#sk-container-id-1 div.sk-item {position: relative;z-index: 1;}#sk-container-id-1 div.sk-parallel {display: flex;align-items: stretch;justify-content: center;background-color: white;position: relative;}#sk-container-id-1 div.sk-item::before, #sk-container-id-1 div.sk-parallel-item::before {content: \"\";position: absolute;border-left: 1px solid gray;box-sizing: border-box;top: 0;bottom: 0;left: 50%;z-index: -1;}#sk-container-id-1 div.sk-parallel-item {display: flex;flex-direction: column;z-index: 1;position: relative;background-color: white;}#sk-container-id-1 div.sk-parallel-item:first-child::after {align-self: flex-end;width: 50%;}#sk-container-id-1 div.sk-parallel-item:last-child::after {align-self: flex-start;width: 50%;}#sk-container-id-1 div.sk-parallel-item:only-child::after {width: 0;}#sk-container-id-1 div.sk-dashed-wrapped {border: 1px dashed gray;margin: 0 0.4em 0.5em 0.4em;box-sizing: border-box;padding-bottom: 0.4em;background-color: white;}#sk-container-id-1 div.sk-label label {font-family: monospace;font-weight: bold;display: inline-block;line-height: 1.2em;}#sk-container-id-1 div.sk-label-container {text-align: center;}#sk-container-id-1 div.sk-container {/* jupyter's `normalize.less` sets `[hidden] { display: none; }` but bootstrap.min.css set `[hidden] { display: none !important; }` so we also need the `!important` here to be able to override the default hidden behavior on the sphinx rendered scikit-learn.org. See: https://github.com/scikit-learn/scikit-learn/issues/21755 */display: inline-block !important;position: relative;}#sk-container-id-1 div.sk-text-repr-fallback {display: none;}</style><div id=\"sk-container-id-1\" class=\"sk-top-container\"><div class=\"sk-text-repr-fallback\"><pre>LinearRegression()</pre><b>In a Jupyter environment, please rerun this cell to show the HTML representation or trust the notebook. <br />On GitHub, the HTML representation is unable to render, please try loading this page with nbviewer.org.</b></div><div class=\"sk-container\" hidden><div class=\"sk-item\"><div class=\"sk-estimator sk-toggleable\"><input class=\"sk-toggleable__control sk-hidden--visually\" id=\"sk-estimator-id-1\" type=\"checkbox\" checked><label for=\"sk-estimator-id-1\" class=\"sk-toggleable__label sk-toggleable__label-arrow\">LinearRegression</label><div class=\"sk-toggleable__content\"><pre>LinearRegression()</pre></div></div></div></div></div>"
      ],
      "text/plain": [
       "LinearRegression()"
      ]
     },
     "execution_count": 29,
     "metadata": {},
     "output_type": "execute_result"
    }
   ],
   "source": [
    "reg.fit(X_train_transformed,y_train)"
   ]
  },
  {
   "cell_type": "code",
   "execution_count": 30,
   "id": "760d02c6",
   "metadata": {},
   "outputs": [],
   "source": [
    "y_pred = reg.predict(X_test_transformed)"
   ]
  },
  {
   "cell_type": "code",
   "execution_count": 31,
   "id": "2b5e6eb4",
   "metadata": {},
   "outputs": [],
   "source": [
    "from sklearn import metrics"
   ]
  },
  {
   "cell_type": "code",
   "execution_count": 32,
   "id": "3277c1e6",
   "metadata": {},
   "outputs": [
    {
     "data": {
      "text/plain": [
       "0.7544137673416046"
      ]
     },
     "execution_count": 32,
     "metadata": {},
     "output_type": "execute_result"
    }
   ],
   "source": [
    "metrics.mean_absolute_error(y_pred,y_test)"
   ]
  },
  {
   "cell_type": "code",
   "execution_count": null,
   "id": "4f14bab7",
   "metadata": {},
   "outputs": [],
   "source": []
  }
 ],
 "metadata": {
  "kernelspec": {
   "display_name": "Python 3 (ipykernel)",
   "language": "python",
   "name": "python3"
  },
  "language_info": {
   "codemirror_mode": {
    "name": "ipython",
    "version": 3
   },
   "file_extension": ".py",
   "mimetype": "text/x-python",
   "name": "python",
   "nbconvert_exporter": "python",
   "pygments_lexer": "ipython3",
   "version": "3.11.5"
  }
 },
 "nbformat": 4,
 "nbformat_minor": 5
}
